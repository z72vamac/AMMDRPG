{
 "cells": [
  {
   "attachments": {},
   "cell_type": "markdown",
   "metadata": {},
   "source": [
    "Loading packages"
   ]
  },
  {
   "cell_type": "code",
   "execution_count": 1,
   "metadata": {},
   "outputs": [
    {
     "name": "stderr",
     "output_type": "stream",
     "text": [
      "c:\\Users\\Justo Puerto\\AppData\\Local\\Programs\\Python\\Python38\\lib\\site-packages\\scipy\\__init__.py:146: UserWarning: A NumPy version >=1.16.5 and <1.23.0 is required for this version of SciPy (detected version 1.24.2\n",
      "  warnings.warn(f\"A NumPy version >={np_minversion} and <{np_maxversion}\"\n"
     ]
    }
   ],
   "source": [
    "import pandas as pd\n",
    "import seaborn as sns\n",
    "import matplotlib.pyplot as plt\n",
    "import numpy as np\n",
    "import openpyxl\n",
    "import matplotlib\n",
    "import tikzplotlib\n",
    "\n",
    "pd.set_option('display.max_rows', 500)\n",
    "pd.set_option('display.max_columns', 500)"
   ]
  },
  {
   "attachments": {},
   "cell_type": "markdown",
   "metadata": {},
   "source": [
    "Opening non overlapping results without initialization"
   ]
  },
  {
   "cell_type": "code",
   "execution_count": 2,
   "metadata": {},
   "outputs": [],
   "source": [
    "asynchronous_data_without = pd.read_csv('asynchronous_results_without.csv')\n",
    "asynchronous_data_without[['Size', 'Instance', 'time_endurance', 'drones_numberber']] = asynchronous_data_without[['Size', 'Instance', 'time_endurance'drones_numbernumber']].apply(np.int64)\n",
    "asynchronous_data_without = asynchronous_data_without.rename(columns={'GAP':'Gap wi'})"
   ]
  },
  {
   "attachments": {},
   "cell_type": "markdown",
   "metadata": {},
   "source": [
    "Computing means for non overlapping results without initialization"
   ]
  },
  {
   "cell_type": "code",
   "execution_count": 3,
   "metadata": {},
   "outputs": [],
   "source": [
    "means_table_without = asynchronous_data_without.groupby(['Size', 'time_endurance', 'drones_numberber', 'Alpha_e']).mean()[['Gap wi']].round(2).reset_index()\n",
    "counts_table_without = asynchronous_data_without.groupby(['Size', 'time_endurance', 'drones_numberber', 'Alpha_e']).count()[['Gap wi']].round(2).reset_index()"
   ]
  },
  {
   "attachments": {},
   "cell_type": "markdown",
   "metadata": {},
   "source": [
    "Opening non overlapping results with initialization"
   ]
  },
  {
   "cell_type": "code",
   "execution_count": 4,
   "metadata": {},
   "outputs": [],
   "source": [
    "asynchronous_data_with = pd.read_csv('asynchronous_results_with.csv')\n",
    "asynchronous_data_with[['Size', 'Instance', 'time_endurance', 'drones_numberber']] = asynchronous_data_with[['Size', 'Instance', 'time_endurance'drones_numbernumber']].apply(np.int64)\n",
    "asynchronous_data_without = asynchronous_data_without.rename(columns={'GAP':'Gap i'})\n",
    "asynchronous_data_with['Difference'] = (asynchronous_data_with['HeurVal'] - asynchronous_data_with['ObjVal'])/(asynchronous_data_with['HeurVal']) * 100\n",
    "asynchronous_data_with = asynchronous_data_with.rename(columns={'GAP':'Gap i', 'HeurTime': 'TimeH'})"
   ]
  },
  {
   "attachments": {},
   "cell_type": "markdown",
   "metadata": {},
   "source": [
    "Computing means for non overlapping results with initialization"
   ]
  },
  {
   "cell_type": "code",
   "execution_count": 5,
   "metadata": {},
   "outputs": [],
   "source": [
    "means_table_with = asynchronous_data_with.groupby(['Size', 'time_endurance', 'drones_numberber', 'Alpha_e']).mean()[['Gap i', 'TimeH']].round(2).reset_index()"
   ]
  },
  {
   "attachments": {},
   "cell_type": "markdown",
   "metadata": {},
   "source": [
    "Representing the boxplot and saving the .tex file"
   ]
  },
  {
   "cell_type": "code",
   "execution_count": 6,
   "metadata": {},
   "outputs": [
    {
     "ename": "AttributeError",
     "evalue": "'Legend' object has no attribute '_ncol'",
     "output_type": "error",
     "traceback": [
      "\u001b[1;31m---------------------------------------------------------------------------\u001b[0m",
      "\u001b[1;31mAttributeError\u001b[0m                            Traceback (most recent call last)",
      "\u001b[1;32mc:\\Users\\Justo Puerto\\UNIVERSIDAD DE SEVILLA\\Grupo de Trabajo de Justo - General\\AMMDRPG\\results\\asynchronous_results\\computing_asynchronous_results.ipynb Cell 12\u001b[0m in \u001b[0;36m<module>\u001b[1;34m\u001b[0m\n\u001b[0;32m      <a href='vscode-notebook-cell:/c%3A/Users/Justo%20Puerto/UNIVERSIDAD%20DE%20SEVILLA/Grupo%20de%20Trabajo%20de%20Justo%20-%20General/AMMDRPG/results/asynchronous_results/computing_asynchronous_results.ipynb#X14sZmlsZQ%3D%3D?line=2'>3</a>\u001b[0m sns\u001b[39m.\u001b[39mset(style\u001b[39m=\u001b[39m\u001b[39m\"\u001b[39m\u001b[39mdarkgrid\u001b[39m\u001b[39m\"\u001b[39m)\n\u001b[0;32m      <a href='vscode-notebook-cell:/c%3A/Users/Justo%20Puerto/UNIVERSIDAD%20DE%20SEVILLA/Grupo%20de%20Trabajo%20de%20Justo%20-%20General/AMMDRPG/results/asynchronous_results/computing_asynchronous_results.ipynb#X14sZmlsZQ%3D%3D?line=3'>4</a>\u001b[0m g \u001b[39m=\u001b[39m sns\u001b[39m.\u001b[39mcatplot(x \u001b[39m=\u001b[39m \u001b[39m'\u001b[39m\u001b[39mSize\u001b[39m\u001b[39m'\u001b[39m, y \u001b[39m=\u001b[39m \u001b[39m'\u001b[39m\u001b[39mDifference\u001b[39m\u001b[39m'\u001b[39m, kind \u001b[39m=\u001b[39m \u001b[39m'\u001b[39m\u001b[39mbox\u001b[39m\u001b[39m'\u001b[39m, col \u001b[39m=\u001b[39m \u001b[39m'\u001b[39m\u001b[39mNum_Drones\u001b[39m\u001b[39m'\u001b[39m, hue \u001b[39m=\u001b[39m \u001b[39m'\u001b[39m\u001b[39mAlpha_e\u001b[39m\u001b[39m'\u001b[39m, data \u001b[39m=\u001b[39m asynchronous_data_with, aspect \u001b[39m=\u001b[39m \u001b[39m1\u001b[39m, sharey \u001b[39m=\u001b[39m \u001b[39mTrue\u001b[39;00m, legend \u001b[39m=\u001b[39m \u001b[39mTrue\u001b[39;00m)\n\u001b[1;32m----> <a href='vscode-notebook-cell:/c%3A/Users/Justo%20Puerto/UNIVERSIDAD%20DE%20SEVILLA/Grupo%20de%20Trabajo%20de%20Justo%20-%20General/AMMDRPG/results/asynchronous_results/computing_asynchronous_results.ipynb#X14sZmlsZQ%3D%3D?line=4'>5</a>\u001b[0m tikzplotlib\u001b[39m.\u001b[39;49msave(\u001b[39m'\u001b[39;49m\u001b[39mgap_between_algorithms_asynchronous.tex\u001b[39;49m\u001b[39m'\u001b[39;49m)\n\u001b[0;32m      <a href='vscode-notebook-cell:/c%3A/Users/Justo%20Puerto/UNIVERSIDAD%20DE%20SEVILLA/Grupo%20de%20Trabajo%20de%20Justo%20-%20General/AMMDRPG/results/asynchronous_results/computing_asynchronous_results.ipynb#X14sZmlsZQ%3D%3D?line=5'>6</a>\u001b[0m plt\u001b[39m.\u001b[39msavefig(\u001b[39m'\u001b[39m\u001b[39mgap_between_algorithms_asynchronous.png\u001b[39m\u001b[39m'\u001b[39m)\n",
      "File \u001b[1;32mc:\\Users\\Justo Puerto\\AppData\\Local\\Programs\\Python\\Python38\\lib\\site-packages\\tikzplotlib\\_save.py:262\u001b[0m, in \u001b[0;36msave\u001b[1;34m(filepath, encoding, *args, **kwargs)\u001b[0m\n\u001b[0;32m    252\u001b[0m \u001b[39mdef\u001b[39;00m \u001b[39msave\u001b[39m(filepath: \u001b[39mstr\u001b[39m \u001b[39m|\u001b[39m Path, \u001b[39m*\u001b[39margs, encoding: \u001b[39mstr\u001b[39m \u001b[39m|\u001b[39m \u001b[39mNone\u001b[39;00m \u001b[39m=\u001b[39m \u001b[39mNone\u001b[39;00m, \u001b[39m*\u001b[39m\u001b[39m*\u001b[39mkwargs):\n\u001b[0;32m    253\u001b[0m     \u001b[39m\"\"\"Same as `get_tikz_code()`, but actually saves the code to a file.\u001b[39;00m\n\u001b[0;32m    254\u001b[0m \n\u001b[0;32m    255\u001b[0m \u001b[39m    :param filepath: The file to which the TikZ output will be written.\u001b[39;00m\n\u001b[1;32m   (...)\u001b[0m\n\u001b[0;32m    260\u001b[0m \u001b[39m    :returns: None\u001b[39;00m\n\u001b[0;32m    261\u001b[0m \u001b[39m    \"\"\"\u001b[39;00m\n\u001b[1;32m--> 262\u001b[0m     code \u001b[39m=\u001b[39m get_tikz_code(\u001b[39m*\u001b[39;49margs, filepath\u001b[39m=\u001b[39;49mfilepath, \u001b[39m*\u001b[39;49m\u001b[39m*\u001b[39;49mkwargs)\n\u001b[0;32m    263\u001b[0m     \u001b[39mwith\u001b[39;00m \u001b[39mopen\u001b[39m(filepath, \u001b[39m\"\u001b[39m\u001b[39mw\u001b[39m\u001b[39m\"\u001b[39m, encoding\u001b[39m=\u001b[39mencoding) \u001b[39mas\u001b[39;00m f:\n\u001b[0;32m    264\u001b[0m         f\u001b[39m.\u001b[39mwrite(code)\n",
      "File \u001b[1;32mc:\\Users\\Justo Puerto\\AppData\\Local\\Programs\\Python\\Python38\\lib\\site-packages\\tikzplotlib\\_save.py:213\u001b[0m, in \u001b[0;36mget_tikz_code\u001b[1;34m(figure, filepath, axis_width, axis_height, textsize, tex_relative_path_to_data, externalize_tables, override_externals, externals_search_path, strict, wrap, add_axis_environment, extra_axis_parameters, extra_groupstyle_parameters, extra_tikzpicture_parameters, extra_lines_start, dpi, show_info, include_disclaimer, standalone, float_format, table_row_sep, flavor)\u001b[0m\n\u001b[0;32m    210\u001b[0m     _print_pgfplot_libs_message(data)\n\u001b[0;32m    212\u001b[0m \u001b[39m# gather the file content\u001b[39;00m\n\u001b[1;32m--> 213\u001b[0m data, content \u001b[39m=\u001b[39m _recurse(data, figure)\n\u001b[0;32m    215\u001b[0m \u001b[39m# Check if there is still an open groupplot environment. This occurs if not\u001b[39;00m\n\u001b[0;32m    216\u001b[0m \u001b[39m# all of the group plot slots are used.\u001b[39;00m\n\u001b[0;32m    217\u001b[0m \u001b[39mif\u001b[39;00m \u001b[39m\"\u001b[39m\u001b[39mis_in_groupplot_env\u001b[39m\u001b[39m\"\u001b[39m \u001b[39min\u001b[39;00m data \u001b[39mand\u001b[39;00m data[\u001b[39m\"\u001b[39m\u001b[39mis_in_groupplot_env\u001b[39m\u001b[39m\"\u001b[39m]:\n",
      "File \u001b[1;32mc:\\Users\\Justo Puerto\\AppData\\Local\\Programs\\Python\\Python38\\lib\\site-packages\\tikzplotlib\\_save.py:380\u001b[0m, in \u001b[0;36m_recurse\u001b[1;34m(data, obj)\u001b[0m\n\u001b[0;32m    378\u001b[0m     content\u001b[39m.\u001b[39mextend(cont, child\u001b[39m.\u001b[39mget_zorder())\n\u001b[0;32m    379\u001b[0m \u001b[39melif\u001b[39;00m \u001b[39misinstance\u001b[39m(child, mpl\u001b[39m.\u001b[39mlegend\u001b[39m.\u001b[39mLegend):\n\u001b[1;32m--> 380\u001b[0m     data \u001b[39m=\u001b[39m _legend\u001b[39m.\u001b[39;49mdraw_legend(data, child)\n\u001b[0;32m    381\u001b[0m     \u001b[39mif\u001b[39;00m data[\u001b[39m\"\u001b[39m\u001b[39mlegend colors\u001b[39m\u001b[39m\"\u001b[39m]:\n\u001b[0;32m    382\u001b[0m         content\u001b[39m.\u001b[39mextend(data[\u001b[39m\"\u001b[39m\u001b[39mlegend colors\u001b[39m\u001b[39m\"\u001b[39m], \u001b[39m0\u001b[39m)\n",
      "File \u001b[1;32mc:\\Users\\Justo Puerto\\AppData\\Local\\Programs\\Python\\Python38\\lib\\site-packages\\tikzplotlib\\_legend.py:81\u001b[0m, in \u001b[0;36mdraw_legend\u001b[1;34m(data, obj)\u001b[0m\n\u001b[0;32m     78\u001b[0m \u001b[39mif\u001b[39;00m alignment:\n\u001b[0;32m     79\u001b[0m     data[\u001b[39m\"\u001b[39m\u001b[39mcurrent axes\u001b[39m\u001b[39m\"\u001b[39m]\u001b[39m.\u001b[39maxis_options\u001b[39m.\u001b[39mappend(\u001b[39mf\u001b[39m\u001b[39m\"\u001b[39m\u001b[39mlegend cell align=\u001b[39m\u001b[39m{{\u001b[39;00m\u001b[39m{\u001b[39;00malignment\u001b[39m}\u001b[39;00m\u001b[39m}}\u001b[39;00m\u001b[39m\"\u001b[39m)\n\u001b[1;32m---> 81\u001b[0m \u001b[39mif\u001b[39;00m obj\u001b[39m.\u001b[39;49m_ncol \u001b[39m!=\u001b[39m \u001b[39m1\u001b[39m:\n\u001b[0;32m     82\u001b[0m     data[\u001b[39m\"\u001b[39m\u001b[39mcurrent axes\u001b[39m\u001b[39m\"\u001b[39m]\u001b[39m.\u001b[39maxis_options\u001b[39m.\u001b[39mappend(\u001b[39mf\u001b[39m\u001b[39m\"\u001b[39m\u001b[39mlegend columns=\u001b[39m\u001b[39m{\u001b[39;00mobj\u001b[39m.\u001b[39m_ncol\u001b[39m}\u001b[39;00m\u001b[39m\"\u001b[39m)\n\u001b[0;32m     84\u001b[0m \u001b[39m# Write styles to data\u001b[39;00m\n",
      "\u001b[1;31mAttributeError\u001b[0m: 'Legend' object has no attribute '_ncol'"
     ]
    },
    {
     "data": {
      "image/png": "[encoded data removed]",
      "text/plain": [
       "<Figure size 1146.35x360 with 3 Axes>"
      ]
     },
     "metadata": {
      "needs_background": "light"
     },
     "output_type": "display_data"
    }
   ],
   "source": [
    "matplotlib.rcParams['axes.unicode_minus'] = False\n",
    "asynchronous_data_with[['Size', 'Instance', 'time_endurance', 'drones_numberber']] = asynchronous_data_with[['Size', 'Instance', 'time_endurance'drones_numbernumber']].apply(np.int64)\n",
    "sns.set(style=\"darkgrid\")\n",
    "g = sns.catplot(x = 'Size', y = 'Difference', kind = 'box', col = 'drones_numberber', hue = 'Alpha_e', data = asynchronous_data_with, aspect = 1, sharey = True, legend = True)\n",
    "tikzplotlib.save('gap_between_algorithms_asynchronous.tex')\n",
    "plt.savefig('gap_between_algorithms_asynchronous.png')"
   ]
  },
  {
   "attachments": {},
   "cell_type": "markdown",
   "metadata": {},
   "source": [
    "Including all the results in a table and save into table_asynchronous.xlsx"
   ]
  },
  {
   "cell_type": "code",
   "execution_count": 7,
   "metadata": {},
   "outputs": [],
   "source": [
    "data = pd.DataFrame()\n",
    "\n",
    "data['Size'] = means_table_without['Size']\n",
    "data['time_endurance'] = means_table_without['time_endurance']\n",
    "data['drones_numberber'] = means_table_withoudrones_numbernumber']\n",
    "data['Alpha_e'] = means_table_without['Alpha_e']\n",
    "data['Gap wi'] = means_table_without['Gap wi']\n",
    "data['Unsolved'] = 5 - counts_table_without['Gap wi']\n",
    "data['TimeH'] = means_table_with['TimeH']\n",
    "data['Gap i'] = means_table_with['Gap i']\n",
    "\n",
    "data.pivot(index=['time_endurance', 'drones_numberber', 'Alpha_e'], columns = ['Size']).to_excel('table_asynchronous.xlsx')"
   ]
  },
  {
   "cell_type": "code",
   "execution_count": null,
   "metadata": {},
   "outputs": [],
   "source": []
  }
 ],
 "metadata": {
  "kernelspec": {
   "display_name": "Python 3",
   "language": "python",
   "name": "python3"
  },
  "language_info": {
   "codemirror_mode": {
    "name": "ipython",
    "version": 3
   },
   "file_extension": ".py",
   "mimetype": "text/x-python",
   "name": "python",
   "nbconvert_exporter": "python",
   "pygments_lexer": "ipython3",
   "version": "3.8.10"
  },
  "origin_nbformat": 4
 },
 "nbformat": 4,
 "nbformat_minor": 2
}
